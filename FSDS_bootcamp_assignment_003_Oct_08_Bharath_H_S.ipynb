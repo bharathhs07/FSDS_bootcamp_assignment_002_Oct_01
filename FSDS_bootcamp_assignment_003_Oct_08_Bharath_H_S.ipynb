{
 "cells": [
  {
   "cell_type": "markdown",
   "metadata": {
    "id": "KwVni9gipNi-"
   },
   "source": [
    "#  1. Count the number of times iNeuron appears in the string.\n",
    "\n",
    "text = \"Welcome to iNeuron, You are a part of FSDS Bootcamp 2 in iNeuron. I hope you are enjoying the course by iNeuron\""
   ]
  },
  {
   "cell_type": "code",
   "execution_count": 4,
   "metadata": {},
   "outputs": [
    {
     "data": {
      "text/plain": [
       "3"
      ]
     },
     "execution_count": 4,
     "metadata": {},
     "output_type": "execute_result"
    }
   ],
   "source": [
    "text = \"Welcome to iNeuron, You are a part of FSDS Bootcamp 2 in iNeuron. I hope you are enjoying the course by iNeuron\"\n",
    "text.count(\"iNeuron\")\n",
    "#Answer -  iNeuron has appeared 3 times"
   ]
  },
  {
   "cell_type": "markdown",
   "metadata": {},
   "source": [
    "# 2. Check if position 5 to 11 ends with the phrase iNeuron. in the string\n",
    "\n",
    "txt = \"Hello, welcome to FSDS 2.0 at iNeuron.\""
   ]
  },
  {
   "cell_type": "code",
   "execution_count": 12,
   "metadata": {},
   "outputs": [
    {
     "data": {
      "text/plain": [
       "', welc'"
      ]
     },
     "execution_count": 12,
     "metadata": {},
     "output_type": "execute_result"
    }
   ],
   "source": [
    "txt = \"Hello, welcome to FSDS 2.0 at iNeuron.\"\n",
    "txt[5:11]\n",
    "#Position 5 to 11 does not ends with phrase \"iNueron\"\n"
   ]
  },
  {
   "cell_type": "code",
   "execution_count": 15,
   "metadata": {},
   "outputs": [
    {
     "data": {
      "text/plain": [
       "'iNeuron.'"
      ]
     },
     "execution_count": 15,
     "metadata": {},
     "output_type": "execute_result"
    }
   ],
   "source": [
    "# The Actual psotion of iNeuron is mentioned below:\n",
    "txt[-8:]"
   ]
  },
  {
   "cell_type": "markdown",
   "metadata": {},
   "source": [
    "# 3. Write a program that takes your full name as input and displays the abbreviations of the first and middle names except the last name which is displayed as it is. For example, if your name is Sunny Bhaveen Chandra, then the output should be S.B.Chandra."
   ]
  },
  {
   "cell_type": "code",
   "execution_count": 28,
   "metadata": {},
   "outputs": [],
   "source": [
    "# not able to find the answer"
   ]
  },
  {
   "cell_type": "markdown",
   "metadata": {},
   "source": [
    "# 4. Join all items in a list into a string, using a hash(#) character as separator:\n",
    "\n",
    "LIST = [\"My\", \"name\", \"is\", \"Rishav\", \"Dash\"]"
   ]
  },
  {
   "cell_type": "code",
   "execution_count": 35,
   "metadata": {},
   "outputs": [
    {
     "data": {
      "text/plain": [
       "'My#name#is#Rishav#Dash'"
      ]
     },
     "execution_count": 35,
     "metadata": {},
     "output_type": "execute_result"
    }
   ],
   "source": [
    "LIST = [\"My\", \"name\", \"is\", \"Rishav\", \"Dash\"]\n",
    "\"#\".join(LIST)"
   ]
  },
  {
   "cell_type": "markdown",
   "metadata": {},
   "source": [
    "# 5. Write example for the following string manipulation function,\n",
    "\n",
    "- isdecimal()\n",
    "- islower()\n",
    "- isupper()\n",
    "- isalpha()\n",
    "- isnumeric()"
   ]
  },
  {
   "cell_type": "code",
   "execution_count": 40,
   "metadata": {},
   "outputs": [
    {
     "name": "stdout",
     "output_type": "stream",
     "text": [
      "Please enter your weight: 90\n",
      "You have entered correct weight\n"
     ]
    }
   ],
   "source": [
    "# *is decimal()\n",
    "weight=input(\"Please enter your weight: \")\n",
    "if weight.isdecimal():\n",
    "    print(f\"You have entered correct weight\")\n",
    "else:\n",
    "    print(f\"Error!!! You have entered wrong details\")"
   ]
  },
  {
   "cell_type": "code",
   "execution_count": 11,
   "metadata": {},
   "outputs": [
    {
     "name": "stdout",
     "output_type": "stream",
     "text": [
      "Please enter your name in lowercase: bharath\n",
      "Thank you for the information\n"
     ]
    }
   ],
   "source": [
    "# lower function\n",
    "name=input(\"Please enter your name in lowercase: \")\n",
    "if name.islower():\n",
    "    print(f\"Thank you for the information\")\n",
    "else:\n",
    "    print(f\"Error!!! Please enter your name in lowercase format\")"
   ]
  },
  {
   "cell_type": "code",
   "execution_count": 13,
   "metadata": {},
   "outputs": [
    {
     "name": "stdout",
     "output_type": "stream",
     "text": [
      "Please enter your name in Uppercase format: BHARATH H S\n",
      "Thank you for the information\n"
     ]
    }
   ],
   "source": [
    "# Upper function\n",
    "name=input(\"Please enter your name in Uppercase format: \")\n",
    "if name.isupper():\n",
    "    print(f\"Thank you for the information\")\n",
    "else:\n",
    "    print(f\"Error!!! Please enter your name in uppercase format\")"
   ]
  },
  {
   "cell_type": "code",
   "execution_count": 21,
   "metadata": {},
   "outputs": [
    {
     "name": "stdout",
     "output_type": "stream",
     "text": [
      "Please enter the amount required in alphabet: Onelakh\n",
      "Thank you for the amount request\n"
     ]
    }
   ],
   "source": [
    "# Alpha function\n",
    "name=input(\"Please enter the amount required in alphabet: \")\n",
    "if name.isalpha():\n",
    "    print(f\"Thank you for the amount request\")\n",
    "else:\n",
    "    print(f\"Error!!! Please enter the required amount in alphabet\")"
   ]
  },
  {
   "cell_type": "code",
   "execution_count": 23,
   "metadata": {},
   "outputs": [
    {
     "name": "stdout",
     "output_type": "stream",
     "text": [
      "Please enter the total marks scored out of 600: 500\n",
      "Thank you for the input, will update you soon with your results\n"
     ]
    }
   ],
   "source": [
    "# Numeric function\n",
    "name=input(\"Please enter the total marks scored out of 600: \")\n",
    "if name.isnumeric():\n",
    "    print(f\"Thank you for the input, will update you soon with your results\")\n",
    "else:\n",
    "    print(f\"Error!!! Please enter the correct marks secured\")"
   ]
  },
  {
   "cell_type": "markdown",
   "metadata": {},
   "source": [
    "# 6. Indian PAN card format follows the following formats -\n",
    "\n",
    "AYEPC7894X\n",
    "ABCDE9999Y Take user input for PAN_CARD and validate as per the above example."
   ]
  },
  {
   "cell_type": "code",
   "execution_count": 26,
   "metadata": {},
   "outputs": [
    {
     "name": "stdout",
     "output_type": "stream",
     "text": [
      "Please enter your pan card details: HJSKD2147N\n",
      "Thank you for the details\n"
     ]
    }
   ],
   "source": [
    "pan_card=input(\"Please enter your pan card details: \")\n",
    "if pan_card.isalnum():\n",
    "    print(f\"Thank you for the details\")\n",
    "else:\n",
    "    print(f\"Error!!! You have entered wrong details. Please enter again\")"
   ]
  }
 ],
 "metadata": {
  "colab": {
   "collapsed_sections": [],
   "provenance": []
  },
  "kernelspec": {
   "display_name": "Python 3 (ipykernel)",
   "language": "python",
   "name": "python3"
  },
  "language_info": {
   "codemirror_mode": {
    "name": "ipython",
    "version": 3
   },
   "file_extension": ".py",
   "mimetype": "text/x-python",
   "name": "python",
   "nbconvert_exporter": "python",
   "pygments_lexer": "ipython3",
   "version": "3.9.12"
  }
 },
 "nbformat": 4,
 "nbformat_minor": 1
}
